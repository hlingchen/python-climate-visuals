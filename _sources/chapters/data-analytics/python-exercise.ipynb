{
 "cells": [
  {
   "cell_type": "markdown",
   "id": "5202ee2c",
   "metadata": {},
   "source": [
    "# Python Exercise"
   ]
  },
  {
   "cell_type": "markdown",
   "id": "fe90719f",
   "metadata": {},
   "source": [
    "## Task 1 (Containers)\n",
    "For a list which contains three sublists `precipitation = [[0, 0, 3.0], [1.1, 4.8, 0], [0, 0, 0]]`, write a program to find the maximum for each sublist and print it as a dictionary whose key is `sublist_n` (where `n` is the index of sublist) and value is the corresponding maximum. \n",
    "\n",
    "Hint: use `max()` to obtain the maximum of a list. You could also try to use dictionary comprehension to accomplish this within one line of code."
   ]
  },
  {
   "cell_type": "code",
   "execution_count": 2,
   "id": "3ae47cdd",
   "metadata": {},
   "outputs": [
    {
     "name": "stdout",
     "output_type": "stream",
     "text": [
      "{'sublist_0': 3.0, 'sublist_1': 4.8, 'sublist_2': 0}\n"
     ]
    }
   ],
   "source": [
    "# Your solution goes here.\n",
    "precipitation = [[0, 0, 3.0], [1.1, 4.8, 0], [0, 0, 0]]"
   ]
  },
  {
   "cell_type": "markdown",
   "id": "69ba12e4",
   "metadata": {},
   "source": [
    "## Task 2 (Control flows)\n",
    "Write a program to print all prime numbers within the range `range(25, 50)`.\n",
    "\n",
    "Hint: a prime number is a natural number greater than 1 that is not a product of two smaller natural numbers. You may wish to use the following statements:\n",
    "+ use `for num in range(25, 50)` to iterate over all numbers;\n",
    "+ for a specific number, use `for i in range(2, num)` to iterate over potential factors except 1;\n",
    "+ use `(num % i) == 0` to determine whether `i` is truly a factor of `num` (if it is true, `num` is not a prime number); and\n",
    "+ use `break` to stop one loop."
   ]
  },
  {
   "cell_type": "code",
   "execution_count": 2,
   "id": "2b40dc9f",
   "metadata": {},
   "outputs": [],
   "source": [
    "# Your solution goes here."
   ]
  },
  {
   "cell_type": "markdown",
   "id": "90b49490",
   "metadata": {},
   "source": [
    "## Task 3 (Functions)\n",
    "Following Task 2, define a function that returns the list of prime numbers for a specified range. Then, use this function to print the prime numbers within the ranges `range(25, 50)` and `range(50, 100)` respectively.\n",
    "\n",
    "Hint: in the function, you may define an empty list `prime_num = []` at first and use the `append` method to add prime numbers."
   ]
  },
  {
   "cell_type": "code",
   "execution_count": 8,
   "id": "d0d5b046",
   "metadata": {},
   "outputs": [],
   "source": [
    "# Your solution goes here."
   ]
  }
 ],
 "metadata": {
  "kernelspec": {
   "display_name": "Python 3",
   "language": "python",
   "name": "python3"
  },
  "language_info": {
   "codemirror_mode": {
    "name": "ipython",
    "version": 3
   },
   "file_extension": ".py",
   "mimetype": "text/x-python",
   "name": "python",
   "nbconvert_exporter": "python",
   "pygments_lexer": "ipython3",
   "version": "3.8.8"
  },
  "varInspector": {
   "cols": {
    "lenName": 16,
    "lenType": 16,
    "lenVar": 40
   },
   "kernels_config": {
    "python": {
     "delete_cmd_postfix": "",
     "delete_cmd_prefix": "del ",
     "library": "var_list.py",
     "varRefreshCmd": "print(var_dic_list())"
    },
    "r": {
     "delete_cmd_postfix": ") ",
     "delete_cmd_prefix": "rm(",
     "library": "var_list.r",
     "varRefreshCmd": "cat(var_dic_list()) "
    }
   },
   "types_to_exclude": [
    "module",
    "function",
    "builtin_function_or_method",
    "instance",
    "_Feature"
   ],
   "window_display": false
  }
 },
 "nbformat": 4,
 "nbformat_minor": 5
}
